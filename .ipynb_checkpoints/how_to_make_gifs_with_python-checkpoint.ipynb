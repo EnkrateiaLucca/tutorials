{
 "cells": [
  {
   "cell_type": "markdown",
   "metadata": {},
   "source": [
    "# source:\n",
    "https://www.idiotinside.com/2017/06/06/create-gif-animation-with-python/"
   ]
  },
  {
   "cell_type": "markdown",
   "metadata": {},
   "source": [
    "# Making a gif with imageio"
   ]
  },
  {
   "cell_type": "markdown",
   "metadata": {},
   "source": [
    "1 - Import dependencies"
   ]
  },
  {
   "cell_type": "code",
   "execution_count": 1,
   "metadata": {},
   "outputs": [],
   "source": [
    "import os\n",
    "import datetime\n",
    "import sys\n",
    "import datetime\n",
    "import imageio\n"
   ]
  },
  {
   "cell_type": "markdown",
   "metadata": {},
   "source": [
    "2 - Define the valid extensions"
   ]
  },
  {
   "cell_type": "code",
   "execution_count": 2,
   "metadata": {},
   "outputs": [],
   "source": [
    "VALID_EXTENSIONS = ('png', 'jpg')"
   ]
  },
  {
   "cell_type": "markdown",
   "metadata": {},
   "source": [
    "3 - Create a function that:\n",
    " - Takes filenames and a certain duration (in seconds)\n",
    " - Loops over the files and appends the \"imageio.imread\" object of them to a list\n",
    " - Creates an outputfile \n",
    " - Uses \"imageio.mimsave\" to save the outputfile with the images and the duration specified\n",
    " \n",
    "4 - Sets code to acccept files from terminal "
   ]
  },
  {
   "cell_type": "code",
   "execution_count": 3,
   "metadata": {},
   "outputs": [],
   "source": [
    "def create_gif(filenames, duration):\n",
    "    images = []\n",
    "    for filename in filenames:\n",
    "        images.append(imageio.imread(filename))\n",
    "    output_file = 'Gif-%s.gif' % datetime.datetime.now().strftime('%Y-%M-%d-%H-%M-%S')\n",
    "    imageio.mimsave(output_file, images, duration=duration)\n",
    "\n",
    "if __name__ == \"__main__\":\n",
    "    script = sys.argv.pop(0)\n",
    "\n",
    "    if len(sys.argv) < 2:\n",
    "        print('Usage: python {} <duration> <path to images separated by space>'.format(script))\n",
    "        sys.exit(1)\n",
    "\n",
    "    duration = float(sys.argv.pop(0))\n",
    "    filenames = sys.argv\n",
    "\n",
    "    if not all(f.lower().endswith(VALID_EXTENSIONS) for f in filenames):\n",
    "        print('Only png and jpg files allowed')\n",
    "        sys.exit(1)\n",
    "\n",
    "    create_gif(filenames, duration)\n"
   ]
  }
 ],
 "metadata": {
  "kernelspec": {
   "display_name": "Python 3",
   "language": "python",
   "name": "python3"
  },
  "language_info": {
   "codemirror_mode": {
    "name": "ipython",
    "version": 3
   },
   "file_extension": ".py",
   "mimetype": "text/x-python",
   "name": "python",
   "nbconvert_exporter": "python",
   "pygments_lexer": "ipython3",
   "version": "3.6.7"
  }
 },
 "nbformat": 4,
 "nbformat_minor": 2
}
