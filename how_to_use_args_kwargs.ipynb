{
 "cells": [
  {
   "cell_type": "markdown",
   "metadata": {},
   "source": [
    "# How to use *args and kwargs in python"
   ]
  },
  {
   "cell_type": "markdown",
   "metadata": {},
   "source": [
    "# 1 - *Args\n",
    "\n",
    "Just set \"*args\" as the parameter of a function, what it does is set a list that takes all arguments given\n",
    "and stores them so you can use as many as you want."
   ]
  },
  {
   "cell_type": "code",
   "execution_count": 2,
   "metadata": {},
   "outputs": [
    {
     "name": "stdout",
     "output_type": "stream",
     "text": [
      "The man went to the bakery to buy bread  but forgot his wallet\n",
      "1\n",
      "2\n",
      "3\n",
      "4\n",
      "5\n",
      "1\n",
      "1\n",
      "2\n",
      "3\n",
      "5\n",
      "8\n",
      "13\n"
     ]
    }
   ],
   "source": [
    "def names_examples(*args):\n",
    "    print(\"The {} went to the {} to buy {}  but forgot his {}\".format(args[0],args[1],args[2],args[3]))\n",
    "    \n",
    "names_examples(\"man\", \"bakery\",\"bread\", \"wallet\")\n",
    "\n",
    "def nums_example(*args):\n",
    "    for num in args:\n",
    "        print(num)\n",
    "        \n",
    "nums_example(1,2,3,4,5)\n",
    "\n",
    "\n",
    "\n",
    "nums_example(1,1,2,3,5,8,13)"
   ]
  },
  {
   "cell_type": "markdown",
   "metadata": {},
   "source": [
    "# Notes\n",
    "\n",
    "*args is useful because it allows for accounting for the uncertainty of future number of needed parameters"
   ]
  },
  {
   "cell_type": "markdown",
   "metadata": {},
   "source": [
    "# 2 - **KWARGS\n",
    "\n",
    "**Kwargs (\"keyword arguments) ~ **args"
   ]
  },
  {
   "cell_type": "code",
   "execution_count": 6,
   "metadata": {},
   "outputs": [
    {
     "name": "stdout",
     "output_type": "stream",
     "text": [
      "{'k1': 'Hello', 'k2': 10, 'k3': ['solene', 'yohan']}\n"
     ]
    }
   ],
   "source": [
    "def print_words(**kwargs):\n",
    "    print(kwargs)\n",
    "    \n",
    "print_words(k1 = \"Hello\", k2 = 10, k3 = [\"solene\", \"yohan\"])"
   ]
  }
 ],
 "metadata": {
  "kernelspec": {
   "display_name": "Python 3",
   "language": "python",
   "name": "python3"
  },
  "language_info": {
   "codemirror_mode": {
    "name": "ipython",
    "version": 3
   },
   "file_extension": ".py",
   "mimetype": "text/x-python",
   "name": "python",
   "nbconvert_exporter": "python",
   "pygments_lexer": "ipython3",
   "version": "3.6.7"
  }
 },
 "nbformat": 4,
 "nbformat_minor": 2
}
