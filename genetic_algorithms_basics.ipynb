{
 "cells": [
  {
   "cell_type": "markdown",
   "metadata": {},
   "source": [
    "# source\n",
    "https://lethain.com/genetic-algorithms-cool-name-damn-simple/"
   ]
  },
  {
   "cell_type": "code",
   "execution_count": 2,
   "metadata": {},
   "outputs": [],
   "source": [
    "import random\n",
    "import numpy as np\n",
    "from operator import add"
   ]
  },
  {
   "cell_type": "markdown",
   "metadata": {},
   "source": [
    "# 5 basic compoenents:\n",
    "    - individual\n",
    "    - population\n",
    "    - fitness\n",
    "    - grade\n",
    "    - evolve"
   ]
  },
  {
   "cell_type": "markdown",
   "metadata": {},
   "source": [
    "# Individual"
   ]
  },
  {
   "cell_type": "markdown",
   "metadata": {},
   "source": [
    "Basic component of the genetic algorithm, the one that holds the action which\n",
    "produces an output that is analysed and given a value (by the fitness function)"
   ]
  },
  {
   "cell_type": "code",
   "execution_count": 3,
   "metadata": {},
   "outputs": [
    {
     "data": {
      "text/plain": [
       "[597, 85, 492, 303, 306]"
      ]
     },
     "execution_count": 3,
     "metadata": {},
     "output_type": "execute_result"
    }
   ],
   "source": [
    "def individual(length, min, max):\n",
    "    return [random.randint(min, max) for x in range(length)]\n",
    "\n",
    "individual(5,0, 1000)"
   ]
  },
  {
   "cell_type": "markdown",
   "metadata": {},
   "source": [
    "# Population"
   ]
  },
  {
   "cell_type": "markdown",
   "metadata": {},
   "source": [
    "collection of all individuals is referred to as a population"
   ]
  },
  {
   "cell_type": "code",
   "execution_count": 4,
   "metadata": {},
   "outputs": [
    {
     "data": {
      "text/plain": [
       "[[87, 119, 403, 368, 127],\n",
       " [679, 227, 414, 327, 55],\n",
       " [317, 958, 802, 840, 499],\n",
       " [740, 879, 703, 909, 667],\n",
       " [289, 94, 979, 608, 962],\n",
       " [568, 798, 73, 538, 141],\n",
       " [648, 627, 799, 794, 96],\n",
       " [463, 90, 781, 986, 901],\n",
       " [262, 325, 345, 873, 336],\n",
       " [513, 809, 154, 484, 71]]"
      ]
     },
     "execution_count": 4,
     "metadata": {},
     "output_type": "execute_result"
    }
   ],
   "source": [
    "def population(size_pop, length, min, max):\n",
    "    \n",
    "    return [individual(length,min,max) for x in range(size_pop)]\n",
    "\n",
    "population(10,5,0,1000)"
   ]
  },
  {
   "cell_type": "markdown",
   "metadata": {},
   "source": [
    "# Fitness"
   ]
  },
  {
   "cell_type": "markdown",
   "metadata": {},
   "source": [
    "The fitness funtion will be our way of judging how effective is each individual\n",
    "it is a rule that allows us to avaluate each individual based on a rule we define\n",
    "\n",
    "in our case to be applied to the neural network later, we want the fitness function to be the\n",
    "average value of a list (which later will be a list of accuracies)\n"
   ]
  },
  {
   "cell_type": "code",
   "execution_count": 5,
   "metadata": {},
   "outputs": [
    {
     "data": {
      "text/plain": [
       "70.8"
      ]
     },
     "execution_count": 5,
     "metadata": {},
     "output_type": "execute_result"
    }
   ],
   "source": [
    "def fitness(individual):\n",
    "    return np.mean(individual)\n",
    "\n",
    "ind_1 = individual(5, 0,100)\n",
    "\n",
    "fitness(ind_1)"
   ]
  },
  {
   "cell_type": "markdown",
   "metadata": {},
   "source": [
    "# Grade"
   ]
  },
  {
   "cell_type": "markdown",
   "metadata": {},
   "source": [
    "is the average fitness value of a population"
   ]
  },
  {
   "cell_type": "code",
   "execution_count": 7,
   "metadata": {},
   "outputs": [
    {
     "data": {
      "text/plain": [
       "41.96"
      ]
     },
     "execution_count": 7,
     "metadata": {},
     "output_type": "execute_result"
    }
   ],
   "source": [
    "pop = population(10, 5, 0, 100)\n",
    "def grade(pop):\n",
    "    averages = [fitness(ind) for ind in pop]\n",
    "    grade = np.mean(averages)    \n",
    "    return grade\n",
    "grade(pop)"
   ]
  },
  {
   "cell_type": "markdown",
   "metadata": {},
   "source": [
    "# Evolve"
   ]
  },
  {
   "cell_type": "markdown",
   "metadata": {},
   "source": [
    "Evolution involves:\n",
    "    - high performing individuals will be the parents of the next generation\n",
    "    - randomly selecting less performing individuals to breed to allow for genetic diversity and avoid local maximum\n",
    "    - randomly mutating portions of individuals in population\n",
    "\n",
    "# NOTE:\n",
    "One parent can breed more than once but can't represent father and mother simultaneously"
   ]
  },
  {
   "cell_type": "code",
   "execution_count": 11,
   "metadata": {},
   "outputs": [
    {
     "name": "stdout",
     "output_type": "stream",
     "text": [
      "[64, 5, 59, 20, 84, 8]\n",
      "[18, 72, 68, 73, 22, 78]\n",
      "[64, 5, 59, 73, 22, 78]\n"
     ]
    }
   ],
   "source": [
    "father = individual(6,0,100)\n",
    "mother =  individual(6,0,100)\n",
    "child = father[0:3] + mother[3:]\n",
    "\n",
    "print(father)\n",
    "print(mother)\n",
    "print(child)"
   ]
  },
  {
   "cell_type": "markdown",
   "metadata": {},
   "source": [
    "# Random mutation"
   ]
  },
  {
   "cell_type": "code",
   "execution_count": 14,
   "metadata": {},
   "outputs": [
    {
     "name": "stdout",
     "output_type": "stream",
     "text": [
      "Individual before mutation [71, 4, 16, 92, 90]\n",
      "Individual after mutation [71, 4, 16, 92, 90]\n",
      "Individual before mutation [43, 50, 38, 72, 68]\n",
      "Individual after mutation [43, 50, 38, 72, 68]\n",
      "Individual before mutation [16, 27, 71, 47, 20]\n",
      "Individual after mutation [16, 27, 71, 47, 20]\n",
      "Individual before mutation [48, 14, 95, 99, 56]\n",
      "Individual after mutation [48, 14, 95, 99, 56]\n",
      "Individual before mutation [88, 93, 60, 2, 19]\n",
      "Individual after mutation [88, 93, 60, 2, 19]\n",
      "Individual before mutation [82, 52, 34, 91, 9]\n",
      "Individual after mutation [82, 52, 34, 91, 9]\n",
      "Individual before mutation [93, 52, 26, 15, 66]\n",
      "Individual after mutation [93, 52, 26, 15, 66]\n",
      "Individual before mutation [73, 22, 55, 69, 72]\n",
      "Individual after mutation [73, 22, 55, 69, 72]\n",
      "Individual before mutation [42, 90, 67, 74, 51]\n",
      "Individual after mutation [42, 90, 67, 74, 51]\n",
      "Individual before mutation [91, 91, 47, 92, 82]\n",
      "Individual after mutation [91, 91, 47, 92, 82]\n"
     ]
    }
   ],
   "source": [
    "chance_mutation = 0.01\n",
    "\n",
    "pop = population(10,5,0,100)\n",
    "new_inds = []\n",
    "for ind in pop:\n",
    "    print(\"Individual before mutation {}\".format(ind))\n",
    "    if chance_mutation > random.random(): #defining the rule for modifying an individual\n",
    "                                          #in this case when the probability is higher than 1%\n",
    "        place_modif = random.randint(0,len(ind)) #defining place where we will modify the individual\n",
    "        ind[place_modif] = random.randint(min(ind), max(ind)) #on the chosen location we replace for a random value\n",
    "    print(\"Individual after mutation {}\".format(ind))    "
   ]
  },
  {
   "cell_type": "markdown",
   "metadata": {},
   "source": [
    "# Evolve function"
   ]
  },
  {
   "cell_type": "code",
   "execution_count": null,
   "metadata": {},
   "outputs": [],
   "source": [
    "def evolve(pop, retain=0.8, random_select=0.05, mutate = 0.01): #takes 4 parameters\n",
    "    graded = [(fitness(ind),ind) for ind in pop]\n",
    "    \n",
    "    graded = [ind[1] for ind in sorted(graded)]\n",
    "    print(\"This is the population\")\n",
    "    print(sorted(graded))\n",
    "    print(\"*\"*100)\n",
    "    retain_length = int(len(graded)*retain) #sets the amount whithin a population that will actually be parents\n",
    "    parents = graded[retain_length:]        ##in this case 20%\n",
    "    \n",
    "    print(\"This is the initial parents list:\")\n",
    "    print(parents)\n",
    "    print(\"*\"*100)\n",
    "    #randomly add other individuals for genetic diversity\n",
    "    for individual in graded[retain_length:]:    \n",
    "        if random_select > random.random():\n",
    "            parents.append(individual)\n",
    "            \n",
    "    #mutate some individuals\n",
    "    for individual in parents:\n",
    "        if mutate > random.random():\n",
    "            #defining the position for the mutation\n",
    "            #the restriction of this mutation should be changed\n",
    "            #to allows for a bigger range of values\n",
    "            pos_mutation = random.randint(0,len(individual)-1)\n",
    "            individual[pos_mutation] = random.randint(min(individual), max(individual))\n",
    "    \n",
    "    print(\"This is the parents list after mutation:\")\n",
    "    print(parents)\n",
    "    print(\"*\"*100)\n",
    "    #cross over parents to create children\n",
    "    parents_length = len(parents)\n",
    "    desired_length = len(pop) - parents_length\n",
    "    children = []\n",
    "    while len(children) < desired_length:\n",
    "        male = random.randint(0, parents_length-1)\n",
    "        female = random.randint(0, parents_length-1)\n",
    "        #here tha parents are meeting each other...hahahah\n",
    "        #than we get half from the father, half from the mother and we get the child\n",
    "        if male != female:\n",
    "            male = parents[male]\n",
    "            female = parents[female]\n",
    "            half = int(len(male) / 2)\n",
    "            child = male[:half] + female[half:]\n",
    "            children.append(child)\n",
    "    parents.extend(children) #extending the list with the children\n",
    "    print(\"This is the final list with the children:\")\n",
    "    print(parents)\n",
    "    return parents\n",
    "\n",
    "\n",
    "pop = population(20, 5,0,100)\n",
    "\n",
    "evolve(pop)"
   ]
  },
  {
   "cell_type": "code",
   "execution_count": null,
   "metadata": {},
   "outputs": [],
   "source": [
    "pop_size = 100\n",
    "ind_length = 5\n",
    "i_min = 0\n",
    "i_max = 100\n",
    "p = population(pop_size, ind_length, i_min, i_max)\n",
    "fitness_history = [grade(p)]\n",
    "\n",
    "#here we define a number of generations\n",
    "for i in range(10):\n",
    "    p = evolve(p)\n",
    "    fitness_history.append(grade(p))\n",
    "    \n",
    "for datum in fitness_history:\n",
    "    print(datum)"
   ]
  }
 ],
 "metadata": {
  "kernelspec": {
   "display_name": "Python 3",
   "language": "python",
   "name": "python3"
  },
  "language_info": {
   "codemirror_mode": {
    "name": "ipython",
    "version": 3
   },
   "file_extension": ".py",
   "mimetype": "text/x-python",
   "name": "python",
   "nbconvert_exporter": "python",
   "pygments_lexer": "ipython3",
   "version": "3.7.0"
  }
 },
 "nbformat": 4,
 "nbformat_minor": 2
}
